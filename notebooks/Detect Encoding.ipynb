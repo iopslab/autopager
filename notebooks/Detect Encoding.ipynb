{
 "cells": [
  {
   "cell_type": "code",
   "execution_count": 19,
   "metadata": {
    "collapsed": false
   },
   "outputs": [],
   "source": [
    "import csv\n",
    "import requests\n",
    "from requests.compat import chardet\n",
    "from w3lib.encoding import html_to_unicode"
   ]
  },
  {
   "cell_type": "code",
   "execution_count": 20,
   "metadata": {
    "collapsed": true
   },
   "outputs": [],
   "source": [
    "def _autodetect_encoding(binary_data):\n",
    "    return chardet.detect(binary_data)['encoding']\n",
    "\n",
    "def encoding(resp):\n",
    "    enc, html = html_to_unicode(\n",
    "        content_type_header=resp.headers.get('Content-Type'),\n",
    "        html_body_str=resp.content,\n",
    "        auto_detect_fun=_autodetect_encoding\n",
    "    )\n",
    "    return enc"
   ]
  },
  {
   "cell_type": "code",
   "execution_count": 9,
   "metadata": {
    "collapsed": false
   },
   "outputs": [
    {
     "data": {
      "text/plain": [
       "['excel-tab', 'excel', 'unix']"
      ]
     },
     "execution_count": 9,
     "metadata": {},
     "output_type": "execute_result"
    }
   ],
   "source": [
    "csv.list_dialects()"
   ]
  },
  {
   "cell_type": "code",
   "execution_count": 8,
   "metadata": {
    "collapsed": false
   },
   "outputs": [],
   "source": [
    "csv.DictReader?"
   ]
  },
  {
   "cell_type": "code",
   "execution_count": 21,
   "metadata": {
    "collapsed": false
   },
   "outputs": [
    {
     "name": "stdout",
     "output_type": "stream",
     "text": [
      "https://forums.oneplus.net/threads/marsh-cm13.405700/ utf-8\n",
      "https://forums.oneplus.net/threads/marsh-cm13.405700/page-5 utf-8\n",
      "https://forums.oneplus.net/threads/marsh-cm13.405700/page-243?versionfrom=2014 utf-8\n",
      "http://www.zoeken.nu/115755/bedrijf/rabobank-drechtsteden.html utf-8\n",
      "https://oneplus.net/ utf-8\n",
      "https://www.mypapershop.com/patricks-day-supplies.html utf-8\n",
      "https://www.mypapershop.com/mm5/merchant.mvc?Session_ID=56e7cf6116038eec3b953a976519a103&Store_Code=MPS&Screen=CTGY&Category_Code=patricks-day-supplies&CatListingOffset=24&Offset=24&Per_Page=24&Sort_By=disp_order utf-8\n",
      "https://www.mypapershop.com/mm5/merchant.mvc?Session_ID=56e7cf6116038eec3b953a976519a103&Store_Code=MPS&Screen=CTGY&Category_Code=patricks-day-supplies&CatListingOffset=48&Offset=48&Per_Page=24&Sort_By=disp_order utf-8\n",
      "http://www.civfanatics.ru/content/ utf-8\n",
      "http://www.newschittagong24.com/ utf-8\n",
      "http://www.newschittagong24.com/?cat=1 utf-8\n",
      "http://www.newschittagong24.com/?cat=1&paged=5 utf-8\n",
      "http://www.newschittagong24.com/?cat=1&paged=1422 utf-8\n",
      "http://binarymarket.ru/category/strategy utf-8\n",
      "http://binarymarket.ru/category/strategy/page/2 utf-8\n",
      "http://www.michelson.pl/ utf-8\n",
      "http://www.michelson.pl/pierscionki-zareczynowe-1-html/ utf-8\n",
      "http://www.michelson.pl/pierscionki-zareczynowe-1-html/?p=4 utf-8\n",
      "http://www.michelson.pl/pierscionki-zareczynowe-1-html/?p=10 utf-8\n",
      "http://www.route41.fr/ utf-8\n",
      "http://www.trioplast.com/brands/lundins/ utf-8\n",
      "https://www.icontact.com/blog utf-8\n",
      "https://www.icontact.com/blog/page/2 utf-8\n",
      "http://allmonitors.net/ utf-8\n",
      "http://rumorfix.com/ utf-8\n",
      "http://rumorfix.com/page/4/ utf-8\n",
      "http://rumorfix.com/page/1097/ utf-8\n",
      "https://www.safarinow.com/ utf-8\n",
      "http://forums.pdfforge.org/categories/help utf-8\n",
      "http://forums.pdfforge.org/categories/help/p6 utf-8\n",
      "http://forums.pdfforge.org/categories/help/p204 utf-8\n",
      "http://www.pref.kyoto.jp/visitkyoto/en/info_required/traditional/kyoto_city/ cp1252\n",
      "http://tomandlorenzo.com/ ascii\n",
      "http://tomandlorenzo.com/page/3/ ascii\n",
      "http://tomandlorenzo.com/page/673/ ascii\n",
      "http://bitterkittens.com/categories/the-t-lounge utf-8\n",
      "http://bitterkittens.com/categories/the-t-lounge/p8 utf-8\n",
      "http://bitterkittens.com/discussion/868/kittentariat-open-chat-11-the-lounge-is-open utf-8\n",
      "http://www.gekiura.com/news/2016310/ utf-8\n",
      "http://www.gekiura.com/news/201639/ utf-8\n",
      "http://www.askdin.com/ utf-8\n",
      "http://www.askdin.com/thread53668-3.html#post783075 utf-8\n",
      "http://juragancipir.com/forums/forum/diskusi-blog/ utf-8\n",
      "http://juragancipir.com/forums/forum/diskusi-blog/page/2/ utf-8\n",
      "http://juragancipir.com/forums/forum/diskusi-blog/page/20/ utf-8\n",
      "https://www.fbo.gov/index?s=opportunity&mode=list&tab=list cp1252\n",
      "http://citysquares.com/ utf-8\n",
      "http://www.noobmeter.com/player/ru/BeceJIoE_DNO/25506082/ utf-8\n",
      "http://www.noobmeter.com/clanTop/ru/WN8/ utf-8\n",
      "http://themestotal.com/ utf-8\n",
      "http://themestotal.com/page/3 utf-8\n",
      "http://www.debijenkorf.nl/herenmode/jassen utf-8\n",
      "http://www.debijenkorf.nl/action/ViewParametricSearch-Browse?fh_location=%2F%2Fcatalog01%2Fnl_NL%2Fcategories%3C%7Bcatalog01_80%7D%2Fcategories%3C%7Bcatalog01_80_4460%7D&fh_start_index=96&chl=1&cg=ig_unregisteredusers&fh_sort=-voorraad_indication%2C-%24ranking_startseason_fashion&fh_modification=95141968-0070-4557-8f2a-fa8373852e2e%2Cf4f86d85-8605-4caf-8963-72453bcb2976%2C273671b4-51a7-474f-b06c-b5e29969095a%2Ccb7dad1a-a063-4154-a8e9-0d78c7b1714e%2Ce6feca0d-a97e-49a6-8602-e654ca5ceac6%2C5fc7fb12-4e7a-4b28-8957-52c11882c221%2C utf-8\n",
      "http://www.iens.nl/restaurant/10545/enschede-rhodos/recensie#6 utf-8\n",
      "https://www.tripadvisor.ru/Restaurant_Review-g188590-d1531839-Reviews-Le_Restaurant-Amsterdam_North_Holland_Province.html#REVIEWS utf-8\n",
      "http://www.zoover.nl/nederland/noord-holland/amsterdam/movenpick-amsterdam-city-centre/hotel utf-8\n",
      "http://www.amazon.com/Python-Data-Analysis-Wes-McKinney/product-reviews/1449319793/ref=cm_cr_dp_see_all_btm?ie=UTF8&showViewpoints=1&sortBy=bySubmissionDateDescending utf-8\n",
      "http://www.amazon.com/Python-Data-Analysis-Wes-McKinney/product-reviews/1449319793/ref=cm_cr_arp_d_paging_btm_12?ie=UTF8&showViewpoints=1&sortBy=bySubmissionDateDescending&pageNumber=12 utf-8\n",
      "http://www.notebooksbilliger.de/forum cp1252\n",
      "http://www.notebooksbilliger.de/forum/Aktuelle+Themen/Seite/3 cp1252\n",
      "http://www.terraforums.com/forums/forum111/?s=6ef2dc853f8f83ceb07b30be0370bb0d cp1252\n",
      "http://www.terraforums.com/forums/north-american-sarracenia-conservancy/93602-pollinate-sarracenia-flower-2.html cp1252\n",
      "http://www.zone-concours.com/forum/temoignages-f26.html utf-8\n",
      "http://www.zone-concours.com/forum/jeux-zelda-pour-ds-dsi-et-3ds-gratuit-t190.html utf-8\n",
      "http://forum.astral-guild.net/board/24/ utf-8\n",
      "http://forum.astral-guild.net/board/24/?page=1 utf-8\n",
      "http://forum.flyordie.com/ utf-8\n",
      "http://forum.flyordie.com/forum.jsp?forum=2 utf-8\n",
      "http://forum.flyordie.com/forum.jsp?forum=2&start=75&thRange=15 utf-8\n",
      "https://forum.mindfactory.de/forum.php iso8859-15\n",
      "https://forum.mindfactory.de/f42-bestellungen?s=1d0f438e682374556630f48524e4a39b iso8859-15\n",
      "https://forum.mindfactory.de/f42-bestellungen-101.html iso8859-15\n",
      "http://whengeekswed.com/blog/ utf-8\n",
      "http://whengeekswed.com/blog/page/12/ utf-8\n",
      "http://whengeekswed.com/blog/page/91/ utf-8\n"
     ]
    }
   ],
   "source": [
    "reader = csv.DictReader(open('../autopager/data/data.csv'))\n",
    "for line in reader:\n",
    "    url = line['Page URL']\n",
    "    resp = requests.get(url)    \n",
    "    print(url, encoding(resp))"
   ]
  },
  {
   "cell_type": "code",
   "execution_count": null,
   "metadata": {
    "collapsed": true
   },
   "outputs": [],
   "source": []
  }
 ],
 "metadata": {
  "kernelspec": {
   "display_name": "Python 3",
   "language": "python",
   "name": "python3"
  },
  "language_info": {
   "codemirror_mode": {
    "name": "ipython",
    "version": 3
   },
   "file_extension": ".py",
   "mimetype": "text/x-python",
   "name": "python",
   "nbconvert_exporter": "python",
   "pygments_lexer": "ipython3",
   "version": "3.4.3"
  }
 },
 "nbformat": 4,
 "nbformat_minor": 0
}
